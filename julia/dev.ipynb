{
 "cells": [
  {
   "cell_type": "code",
   "execution_count": 1,
   "metadata": {},
   "outputs": [],
   "source": [
    "using Flux, Solaris, OrdinaryDiffEq, Plots, Solaris.DiffEqFlux"
   ]
  },
  {
   "cell_type": "code",
   "execution_count": 163,
   "metadata": {},
   "outputs": [
    {
     "data": {
      "text/plain": [
       "f (generic function with 2 methods)"
      ]
     },
     "execution_count": 163,
     "metadata": {},
     "output_type": "execute_result"
    }
   ],
   "source": [
    "# right-hand side of differential equation\n",
    "f(y, t) = -exp(-t)# * y\n",
    "f(y, p, t) = -exp(-t)# * y # parameterized equation for DifferentialEquations.jl"
   ]
  },
  {
   "cell_type": "code",
   "execution_count": 164,
   "metadata": {},
   "outputs": [
    {
     "data": {
      "text/plain": [
       "0.05"
      ]
     },
     "execution_count": 164,
     "metadata": {},
     "output_type": "execute_result"
    }
   ],
   "source": [
    "# computational parameters\n",
    "h = 0.05 # time step"
   ]
  },
  {
   "cell_type": "code",
   "execution_count": 165,
   "metadata": {},
   "outputs": [],
   "source": [
    "X = randn(1, 1000)\n",
    "T = rand(1, 1000) * 50\n",
    "Y = zeros(1, 1000)\n",
    "\n",
    "for i in axes(X, 2)\n",
    "    u0 = X[1, i]\n",
    "    tspan = (T[1, i], T[1, i] + h)\n",
    "    prob = ODEProblem(f, u0, tspan)\n",
    "    sol = solve(prob, BS3(), dt = h, adaptive=false)\n",
    "    Y[1, i] = sol.u[end]\n",
    "end"
   ]
  },
  {
   "cell_type": "code",
   "execution_count": 166,
   "metadata": {},
   "outputs": [
    {
     "data": {
      "text/plain": [
       "9-element Vector{Float32}:\n",
       " 0.0\n",
       " 0.0\n",
       " 0.0\n",
       " 0.0\n",
       " 0.0\n",
       " 0.0\n",
       " 0.0\n",
       " 0.0\n",
       " 0.0"
      ]
     },
     "execution_count": 166,
     "metadata": {},
     "output_type": "execute_result"
    }
   ],
   "source": [
    "# p[1:3]: a21, a31, a32\n",
    "# p[4:6]: b\n",
    "# p[7:9]: c\n",
    "\n",
    "p = zeros(Float32, 9)"
   ]
  },
  {
   "cell_type": "code",
   "execution_count": 167,
   "metadata": {},
   "outputs": [
    {
     "data": {
      "text/plain": [
       "loss (generic function with 1 method)"
      ]
     },
     "execution_count": 167,
     "metadata": {},
     "output_type": "execute_result"
    }
   ],
   "source": [
    "# our neural RK model\n",
    "# it's nothing but just parameter flows\n",
    "function model(p)\n",
    "    k1 = @. f(X, T)\n",
    "    k2 = @. f(X + h * p[1] * k1, T + p[8] * h)\n",
    "    k3 = @. f(X + h * (p[2] * k1 + p[3] * k2), T + p[9] * h)\n",
    "    \n",
    "    return @. X + h * (p[4] * k1 + p[5] * k2 + p[6] * k3)\n",
    "end\n",
    "\n",
    "function loss(p)\n",
    "    Y1 = model(p)\n",
    "    return sum((Y .- Y1).^2) + (sum(p[4:6]) - 1.0)^2 + (p[1] - p[8])^2 + (p[2] + p[3] - p[9])^2\n",
    "end"
   ]
  },
  {
   "cell_type": "code",
   "execution_count": 168,
   "metadata": {},
   "outputs": [
    {
     "data": {
      "text/plain": [
       "#31 (generic function with 1 method)"
      ]
     },
     "execution_count": 168,
     "metadata": {},
     "output_type": "execute_result"
    }
   ],
   "source": [
    "cb = function (p, l)\n",
    "    display(l)\n",
    "    return false\n",
    "end"
   ]
  },
  {
   "cell_type": "code",
   "execution_count": 169,
   "metadata": {
    "scrolled": true
   },
   "outputs": [
    {
     "data": {
      "text/plain": [
       "1.038870947666701"
      ]
     },
     "metadata": {},
     "output_type": "display_data"
    },
    {
     "data": {
      "text/plain": [
       "2.3730467923826346e-5"
      ]
     },
     "metadata": {},
     "output_type": "display_data"
    },
    {
     "data": {
      "text/plain": [
       "2.372995150753947e-5"
      ]
     },
     "metadata": {},
     "output_type": "display_data"
    },
    {
     "data": {
      "text/plain": [
       "2.372530427779687e-5"
      ]
     },
     "metadata": {},
     "output_type": "display_data"
    },
    {
     "data": {
      "text/plain": [
       "2.1381056008722672e-6"
      ]
     },
     "metadata": {},
     "output_type": "display_data"
    },
    {
     "data": {
      "text/plain": [
       "1.5682818415079809e-9"
      ]
     },
     "metadata": {},
     "output_type": "display_data"
    },
    {
     "data": {
      "text/plain": [
       "1.9959578451474907e-14"
      ]
     },
     "metadata": {},
     "output_type": "display_data"
    },
    {
     "data": {
      "text/plain": [
       "9.710046073157304e-21"
      ]
     },
     "metadata": {},
     "output_type": "display_data"
    },
    {
     "data": {
      "text/plain": [
       "u: 9-element Vector{Float32}:\n",
       " 0.64443016\n",
       " 0.42962018\n",
       " 0.42962018\n",
       " 0.33329505\n",
       " 0.33335027\n",
       " 0.33335477\n",
       " 0.0\n",
       " 0.64443016\n",
       " 0.85924035"
      ]
     },
     "execution_count": 169,
     "metadata": {},
     "output_type": "execute_result"
    }
   ],
   "source": [
    "res = sci_train(loss, p, LBFGS(), cb = cb, maxiters = 500)"
   ]
  },
  {
   "cell_type": "code",
   "execution_count": 170,
   "metadata": {},
   "outputs": [
    {
     "data": {
      "text/plain": [
       "9-element Vector{Float32}:\n",
       " 0.64443016\n",
       " 0.42962018\n",
       " 0.42962018\n",
       " 0.33329505\n",
       " 0.33335027\n",
       " 0.33335477\n",
       " 0.0\n",
       " 0.64443016\n",
       " 0.85924035"
      ]
     },
     "execution_count": 170,
     "metadata": {},
     "output_type": "execute_result"
    }
   ],
   "source": [
    "res.u"
   ]
  },
  {
   "cell_type": "code",
   "execution_count": 162,
   "metadata": {},
   "outputs": [
    {
     "data": {
      "text/plain": [
       "9-element Vector{Float32}:\n",
       " 0.6415251\n",
       " 0.42768365\n",
       " 0.4276829\n",
       " 0.3332867\n",
       " 0.33334693\n",
       " 0.33336627\n",
       " 0.0\n",
       " 0.6415251\n",
       " 0.8553666"
      ]
     },
     "execution_count": 162,
     "metadata": {},
     "output_type": "execute_result"
    }
   ],
   "source": [
    "res.u"
   ]
  },
  {
   "cell_type": "code",
   "execution_count": null,
   "metadata": {},
   "outputs": [],
   "source": []
  },
  {
   "cell_type": "markdown",
   "metadata": {},
   "source": [
    "## Test the trained model"
   ]
  },
  {
   "cell_type": "code",
   "execution_count": 171,
   "metadata": {},
   "outputs": [
    {
     "data": {
      "text/plain": [
       "f1 (generic function with 1 method)"
      ]
     },
     "execution_count": 171,
     "metadata": {},
     "output_type": "execute_result"
    }
   ],
   "source": [
    "f1(y, t) = -exp(-t)"
   ]
  },
  {
   "cell_type": "code",
   "execution_count": 172,
   "metadata": {},
   "outputs": [
    {
     "data": {
      "text/plain": [
       "predict (generic function with 1 method)"
      ]
     },
     "execution_count": 172,
     "metadata": {},
     "output_type": "execute_result"
    }
   ],
   "source": [
    "function predict(x, t, h, p)\n",
    "    k1 = f(x, t)\n",
    "    k2 = f(x + h * p[1] * k1, t + p[8] * h)\n",
    "    k3 = f(x + h * (p[2] * k1 + p[3] * k2), t + p[9] * h)\n",
    "    \n",
    "    return @. x + h * (p[4] * k1 + p[5] * k2 + p[6] * k3)\n",
    "end"
   ]
  },
  {
   "cell_type": "code",
   "execution_count": 173,
   "metadata": {},
   "outputs": [],
   "source": [
    "u = zeros(50); u[1] = 1.0\n",
    "t = zeros(50); t[1] = 0.0\n",
    "for i = 2:length(u)\n",
    "    t[i] = t[i-1] + h\n",
    "    u[i] = predict(u[i-1], t[i-1], h, res.u)\n",
    "end"
   ]
  },
  {
   "cell_type": "code",
   "execution_count": 174,
   "metadata": {},
   "outputs": [
    {
     "data": {
      "image/svg+xml": [
       "<?xml version=\"1.0\" encoding=\"utf-8\"?>\n",
       "<svg xmlns=\"http://www.w3.org/2000/svg\" xmlns:xlink=\"http://www.w3.org/1999/xlink\" width=\"600\" height=\"400\" viewBox=\"0 0 2400 1600\">\n",
       "<defs>\n",
       "  <clipPath id=\"clip070\">\n",
       "    <rect x=\"0\" y=\"0\" width=\"2400\" height=\"1600\"/>\n",
       "  </clipPath>\n",
       "</defs>\n",
       "<path clip-path=\"url(#clip070)\" d=\"\n",
       "M0 1600 L2400 1600 L2400 0 L0 0  Z\n",
       "  \" fill=\"#ffffff\" fill-rule=\"evenodd\" fill-opacity=\"1\"/>\n",
       "<defs>\n",
       "  <clipPath id=\"clip071\">\n",
       "    <rect x=\"480\" y=\"0\" width=\"1681\" height=\"1600\"/>\n",
       "  </clipPath>\n",
       "</defs>\n",
       "<path clip-path=\"url(#clip070)\" d=\"\n",
       "M156.598 1423.18 L2352.76 1423.18 L2352.76 47.2441 L156.598 47.2441  Z\n",
       "  \" fill=\"#ffffff\" fill-rule=\"evenodd\" fill-opacity=\"1\"/>\n",
       "<defs>\n",
       "  <clipPath id=\"clip072\">\n",
       "    <rect x=\"156\" y=\"47\" width=\"2197\" height=\"1377\"/>\n",
       "  </clipPath>\n",
       "</defs>\n",
       "<polyline clip-path=\"url(#clip072)\" style=\"stroke:#000000; stroke-linecap:butt; stroke-linejoin:round; stroke-width:2; stroke-opacity:0.1; fill:none\" points=\"\n",
       "  218.754,1423.18 218.754,47.2441 \n",
       "  \"/>\n",
       "<polyline clip-path=\"url(#clip072)\" style=\"stroke:#000000; stroke-linecap:butt; stroke-linejoin:round; stroke-width:2; stroke-opacity:0.1; fill:none\" points=\"\n",
       "  641.58,1423.18 641.58,47.2441 \n",
       "  \"/>\n",
       "<polyline clip-path=\"url(#clip072)\" style=\"stroke:#000000; stroke-linecap:butt; stroke-linejoin:round; stroke-width:2; stroke-opacity:0.1; fill:none\" points=\"\n",
       "  1064.41,1423.18 1064.41,47.2441 \n",
       "  \"/>\n",
       "<polyline clip-path=\"url(#clip072)\" style=\"stroke:#000000; stroke-linecap:butt; stroke-linejoin:round; stroke-width:2; stroke-opacity:0.1; fill:none\" points=\"\n",
       "  1487.23,1423.18 1487.23,47.2441 \n",
       "  \"/>\n",
       "<polyline clip-path=\"url(#clip072)\" style=\"stroke:#000000; stroke-linecap:butt; stroke-linejoin:round; stroke-width:2; stroke-opacity:0.1; fill:none\" points=\"\n",
       "  1910.06,1423.18 1910.06,47.2441 \n",
       "  \"/>\n",
       "<polyline clip-path=\"url(#clip072)\" style=\"stroke:#000000; stroke-linecap:butt; stroke-linejoin:round; stroke-width:2; stroke-opacity:0.1; fill:none\" points=\"\n",
       "  2332.88,1423.18 2332.88,47.2441 \n",
       "  \"/>\n",
       "<polyline clip-path=\"url(#clip070)\" style=\"stroke:#000000; stroke-linecap:butt; stroke-linejoin:round; stroke-width:4; stroke-opacity:1; fill:none\" points=\"\n",
       "  156.598,1423.18 2352.76,1423.18 \n",
       "  \"/>\n",
       "<polyline clip-path=\"url(#clip070)\" style=\"stroke:#000000; stroke-linecap:butt; stroke-linejoin:round; stroke-width:4; stroke-opacity:1; fill:none\" points=\"\n",
       "  218.754,1423.18 218.754,1406.67 \n",
       "  \"/>\n",
       "<polyline clip-path=\"url(#clip070)\" style=\"stroke:#000000; stroke-linecap:butt; stroke-linejoin:round; stroke-width:4; stroke-opacity:1; fill:none\" points=\"\n",
       "  641.58,1423.18 641.58,1406.67 \n",
       "  \"/>\n",
       "<polyline clip-path=\"url(#clip070)\" style=\"stroke:#000000; stroke-linecap:butt; stroke-linejoin:round; stroke-width:4; stroke-opacity:1; fill:none\" points=\"\n",
       "  1064.41,1423.18 1064.41,1406.67 \n",
       "  \"/>\n",
       "<polyline clip-path=\"url(#clip070)\" style=\"stroke:#000000; stroke-linecap:butt; stroke-linejoin:round; stroke-width:4; stroke-opacity:1; fill:none\" points=\"\n",
       "  1487.23,1423.18 1487.23,1406.67 \n",
       "  \"/>\n",
       "<polyline clip-path=\"url(#clip070)\" style=\"stroke:#000000; stroke-linecap:butt; stroke-linejoin:round; stroke-width:4; stroke-opacity:1; fill:none\" points=\"\n",
       "  1910.06,1423.18 1910.06,1406.67 \n",
       "  \"/>\n",
       "<polyline clip-path=\"url(#clip070)\" style=\"stroke:#000000; stroke-linecap:butt; stroke-linejoin:round; stroke-width:4; stroke-opacity:1; fill:none\" points=\"\n",
       "  2332.88,1423.18 2332.88,1406.67 \n",
       "  \"/>\n",
       "<path clip-path=\"url(#clip070)\" d=\"M196.138 1452.37 Q192.527 1452.37 190.698 1455.94 Q188.893 1459.48 188.893 1466.61 Q188.893 1473.71 190.698 1477.28 Q192.527 1480.82 196.138 1480.82 Q199.772 1480.82 201.578 1477.28 Q203.407 1473.71 203.407 1466.61 Q203.407 1459.48 201.578 1455.94 Q199.772 1452.37 196.138 1452.37 M196.138 1448.67 Q201.948 1448.67 205.004 1453.27 Q208.082 1457.86 208.082 1466.61 Q208.082 1475.33 205.004 1479.94 Q201.948 1484.52 196.138 1484.52 Q190.328 1484.52 187.249 1479.94 Q184.194 1475.33 184.194 1466.61 Q184.194 1457.86 187.249 1453.27 Q190.328 1448.67 196.138 1448.67 Z\" fill=\"#000000\" fill-rule=\"evenodd\" fill-opacity=\"1\" /><path clip-path=\"url(#clip070)\" d=\"M216.3 1477.97 L221.184 1477.97 L221.184 1483.85 L216.3 1483.85 L216.3 1477.97 Z\" fill=\"#000000\" fill-rule=\"evenodd\" fill-opacity=\"1\" /><path clip-path=\"url(#clip070)\" d=\"M241.369 1452.37 Q237.758 1452.37 235.929 1455.94 Q234.124 1459.48 234.124 1466.61 Q234.124 1473.71 235.929 1477.28 Q237.758 1480.82 241.369 1480.82 Q245.003 1480.82 246.809 1477.28 Q248.638 1473.71 248.638 1466.61 Q248.638 1459.48 246.809 1455.94 Q245.003 1452.37 241.369 1452.37 M241.369 1448.67 Q247.179 1448.67 250.235 1453.27 Q253.314 1457.86 253.314 1466.61 Q253.314 1475.33 250.235 1479.94 Q247.179 1484.52 241.369 1484.52 Q235.559 1484.52 232.48 1479.94 Q229.425 1475.33 229.425 1466.61 Q229.425 1457.86 232.48 1453.27 Q235.559 1448.67 241.369 1448.67 Z\" fill=\"#000000\" fill-rule=\"evenodd\" fill-opacity=\"1\" /><path clip-path=\"url(#clip070)\" d=\"M619.462 1452.37 Q615.851 1452.37 614.022 1455.94 Q612.216 1459.48 612.216 1466.61 Q612.216 1473.71 614.022 1477.28 Q615.851 1480.82 619.462 1480.82 Q623.096 1480.82 624.901 1477.28 Q626.73 1473.71 626.73 1466.61 Q626.73 1459.48 624.901 1455.94 Q623.096 1452.37 619.462 1452.37 M619.462 1448.67 Q625.272 1448.67 628.327 1453.27 Q631.406 1457.86 631.406 1466.61 Q631.406 1475.33 628.327 1479.94 Q625.272 1484.52 619.462 1484.52 Q613.651 1484.52 610.573 1479.94 Q607.517 1475.33 607.517 1466.61 Q607.517 1457.86 610.573 1453.27 Q613.651 1448.67 619.462 1448.67 Z\" fill=\"#000000\" fill-rule=\"evenodd\" fill-opacity=\"1\" /><path clip-path=\"url(#clip070)\" d=\"M639.624 1477.97 L644.508 1477.97 L644.508 1483.85 L639.624 1483.85 L639.624 1477.97 Z\" fill=\"#000000\" fill-rule=\"evenodd\" fill-opacity=\"1\" /><path clip-path=\"url(#clip070)\" d=\"M654.739 1449.29 L673.096 1449.29 L673.096 1453.23 L659.022 1453.23 L659.022 1461.7 Q660.04 1461.35 661.059 1461.19 Q662.077 1461 663.096 1461 Q668.883 1461 672.262 1464.18 Q675.642 1467.35 675.642 1472.76 Q675.642 1478.34 672.17 1481.44 Q668.697 1484.52 662.378 1484.52 Q660.202 1484.52 657.934 1484.15 Q655.688 1483.78 653.281 1483.04 L653.281 1478.34 Q655.364 1479.48 657.586 1480.03 Q659.809 1480.59 662.285 1480.59 Q666.29 1480.59 668.628 1478.48 Q670.966 1476.38 670.966 1472.76 Q670.966 1469.15 668.628 1467.05 Q666.29 1464.94 662.285 1464.94 Q660.41 1464.94 658.535 1465.36 Q656.684 1465.77 654.739 1466.65 L654.739 1449.29 Z\" fill=\"#000000\" fill-rule=\"evenodd\" fill-opacity=\"1\" /><path clip-path=\"url(#clip070)\" d=\"M1031.56 1479.92 L1039.2 1479.92 L1039.2 1453.55 L1030.89 1455.22 L1030.89 1450.96 L1039.15 1449.29 L1043.83 1449.29 L1043.83 1479.92 L1051.47 1479.92 L1051.47 1483.85 L1031.56 1483.85 L1031.56 1479.92 Z\" fill=\"#000000\" fill-rule=\"evenodd\" fill-opacity=\"1\" /><path clip-path=\"url(#clip070)\" d=\"M1060.91 1477.97 L1065.79 1477.97 L1065.79 1483.85 L1060.91 1483.85 L1060.91 1477.97 Z\" fill=\"#000000\" fill-rule=\"evenodd\" fill-opacity=\"1\" /><path clip-path=\"url(#clip070)\" d=\"M1085.98 1452.37 Q1082.37 1452.37 1080.54 1455.94 Q1078.73 1459.48 1078.73 1466.61 Q1078.73 1473.71 1080.54 1477.28 Q1082.37 1480.82 1085.98 1480.82 Q1089.61 1480.82 1091.42 1477.28 Q1093.25 1473.71 1093.25 1466.61 Q1093.25 1459.48 1091.42 1455.94 Q1089.61 1452.37 1085.98 1452.37 M1085.98 1448.67 Q1091.79 1448.67 1094.85 1453.27 Q1097.92 1457.86 1097.92 1466.61 Q1097.92 1475.33 1094.85 1479.94 Q1091.79 1484.52 1085.98 1484.52 Q1080.17 1484.52 1077.09 1479.94 Q1074.03 1475.33 1074.03 1466.61 Q1074.03 1457.86 1077.09 1453.27 Q1080.17 1448.67 1085.98 1448.67 Z\" fill=\"#000000\" fill-rule=\"evenodd\" fill-opacity=\"1\" /><path clip-path=\"url(#clip070)\" d=\"M1454.88 1479.92 L1462.52 1479.92 L1462.52 1453.55 L1454.21 1455.22 L1454.21 1450.96 L1462.47 1449.29 L1467.15 1449.29 L1467.15 1479.92 L1474.79 1479.92 L1474.79 1483.85 L1454.88 1483.85 L1454.88 1479.92 Z\" fill=\"#000000\" fill-rule=\"evenodd\" fill-opacity=\"1\" /><path clip-path=\"url(#clip070)\" d=\"M1484.23 1477.97 L1489.12 1477.97 L1489.12 1483.85 L1484.23 1483.85 L1484.23 1477.97 Z\" fill=\"#000000\" fill-rule=\"evenodd\" fill-opacity=\"1\" /><path clip-path=\"url(#clip070)\" d=\"M1499.35 1449.29 L1517.71 1449.29 L1517.71 1453.23 L1503.63 1453.23 L1503.63 1461.7 Q1504.65 1461.35 1505.67 1461.19 Q1506.69 1461 1507.71 1461 Q1513.49 1461 1516.87 1464.18 Q1520.25 1467.35 1520.25 1472.76 Q1520.25 1478.34 1516.78 1481.44 Q1513.31 1484.52 1506.99 1484.52 Q1504.81 1484.52 1502.54 1484.15 Q1500.3 1483.78 1497.89 1483.04 L1497.89 1478.34 Q1499.97 1479.48 1502.2 1480.03 Q1504.42 1480.59 1506.9 1480.59 Q1510.9 1480.59 1513.24 1478.48 Q1515.58 1476.38 1515.58 1472.76 Q1515.58 1469.15 1513.24 1467.05 Q1510.9 1464.94 1506.9 1464.94 Q1505.02 1464.94 1503.15 1465.36 Q1501.29 1465.77 1499.35 1466.65 L1499.35 1449.29 Z\" fill=\"#000000\" fill-rule=\"evenodd\" fill-opacity=\"1\" /><path clip-path=\"url(#clip070)\" d=\"M1881.3 1479.92 L1897.62 1479.92 L1897.62 1483.85 L1875.67 1483.85 L1875.67 1479.92 Q1878.33 1477.16 1882.92 1472.53 Q1887.52 1467.88 1888.7 1466.54 Q1890.95 1464.01 1891.83 1462.28 Q1892.73 1460.52 1892.73 1458.83 Q1892.73 1456.07 1890.79 1454.34 Q1888.87 1452.6 1885.76 1452.6 Q1883.56 1452.6 1881.11 1453.37 Q1878.68 1454.13 1875.9 1455.68 L1875.9 1450.96 Q1878.73 1449.82 1881.18 1449.25 Q1883.63 1448.67 1885.67 1448.67 Q1891.04 1448.67 1894.24 1451.35 Q1897.43 1454.04 1897.43 1458.53 Q1897.43 1460.66 1896.62 1462.58 Q1895.83 1464.48 1893.73 1467.07 Q1893.15 1467.74 1890.05 1470.96 Q1886.94 1474.15 1881.3 1479.92 Z\" fill=\"#000000\" fill-rule=\"evenodd\" fill-opacity=\"1\" /><path clip-path=\"url(#clip070)\" d=\"M1907.43 1477.97 L1912.31 1477.97 L1912.31 1483.85 L1907.43 1483.85 L1907.43 1477.97 Z\" fill=\"#000000\" fill-rule=\"evenodd\" fill-opacity=\"1\" /><path clip-path=\"url(#clip070)\" d=\"M1932.5 1452.37 Q1928.89 1452.37 1927.06 1455.94 Q1925.25 1459.48 1925.25 1466.61 Q1925.25 1473.71 1927.06 1477.28 Q1928.89 1480.82 1932.5 1480.82 Q1936.13 1480.82 1937.94 1477.28 Q1939.77 1473.71 1939.77 1466.61 Q1939.77 1459.48 1937.94 1455.94 Q1936.13 1452.37 1932.5 1452.37 M1932.5 1448.67 Q1938.31 1448.67 1941.36 1453.27 Q1944.44 1457.86 1944.44 1466.61 Q1944.44 1475.33 1941.36 1479.94 Q1938.31 1484.52 1932.5 1484.52 Q1926.69 1484.52 1923.61 1479.94 Q1920.55 1475.33 1920.55 1466.61 Q1920.55 1457.86 1923.61 1453.27 Q1926.69 1448.67 1932.5 1448.67 Z\" fill=\"#000000\" fill-rule=\"evenodd\" fill-opacity=\"1\" /><path clip-path=\"url(#clip070)\" d=\"M2304.62 1479.92 L2320.94 1479.92 L2320.94 1483.85 L2298.99 1483.85 L2298.99 1479.92 Q2301.66 1477.16 2306.24 1472.53 Q2310.85 1467.88 2312.03 1466.54 Q2314.27 1464.01 2315.15 1462.28 Q2316.05 1460.52 2316.05 1458.83 Q2316.05 1456.07 2314.11 1454.34 Q2312.19 1452.6 2309.09 1452.6 Q2306.89 1452.6 2304.43 1453.37 Q2302 1454.13 2299.23 1455.68 L2299.23 1450.96 Q2302.05 1449.82 2304.5 1449.25 Q2306.96 1448.67 2308.99 1448.67 Q2314.36 1448.67 2317.56 1451.35 Q2320.75 1454.04 2320.75 1458.53 Q2320.75 1460.66 2319.94 1462.58 Q2319.16 1464.48 2317.05 1467.07 Q2316.47 1467.74 2313.37 1470.96 Q2310.27 1474.15 2304.62 1479.92 Z\" fill=\"#000000\" fill-rule=\"evenodd\" fill-opacity=\"1\" /><path clip-path=\"url(#clip070)\" d=\"M2330.75 1477.97 L2335.64 1477.97 L2335.64 1483.85 L2330.75 1483.85 L2330.75 1477.97 Z\" fill=\"#000000\" fill-rule=\"evenodd\" fill-opacity=\"1\" /><path clip-path=\"url(#clip070)\" d=\"M2345.87 1449.29 L2364.23 1449.29 L2364.23 1453.23 L2350.15 1453.23 L2350.15 1461.7 Q2351.17 1461.35 2352.19 1461.19 Q2353.21 1461 2354.23 1461 Q2360.01 1461 2363.39 1464.18 Q2366.77 1467.35 2366.77 1472.76 Q2366.77 1478.34 2363.3 1481.44 Q2359.83 1484.52 2353.51 1484.52 Q2351.33 1484.52 2349.06 1484.15 Q2346.82 1483.78 2344.41 1483.04 L2344.41 1478.34 Q2346.49 1479.48 2348.72 1480.03 Q2350.94 1480.59 2353.42 1480.59 Q2357.42 1480.59 2359.76 1478.48 Q2362.1 1476.38 2362.1 1472.76 Q2362.1 1469.15 2359.76 1467.05 Q2357.42 1464.94 2353.42 1464.94 Q2351.54 1464.94 2349.67 1465.36 Q2347.81 1465.77 2345.87 1466.65 L2345.87 1449.29 Z\" fill=\"#000000\" fill-rule=\"evenodd\" fill-opacity=\"1\" /><path clip-path=\"url(#clip070)\" d=\"M1253.74 1522.27 L1253.74 1532.4 L1265.8 1532.4 L1265.8 1536.95 L1253.74 1536.95 L1253.74 1556.3 Q1253.74 1560.66 1254.92 1561.9 Q1256.13 1563.14 1259.79 1563.14 L1265.8 1563.14 L1265.8 1568.04 L1259.79 1568.04 Q1253.01 1568.04 1250.43 1565.53 Q1247.85 1562.98 1247.85 1556.3 L1247.85 1536.95 L1243.55 1536.95 L1243.55 1532.4 L1247.85 1532.4 L1247.85 1522.27 L1253.74 1522.27 Z\" fill=\"#000000\" fill-rule=\"evenodd\" fill-opacity=\"1\" /><polyline clip-path=\"url(#clip072)\" style=\"stroke:#000000; stroke-linecap:butt; stroke-linejoin:round; stroke-width:2; stroke-opacity:0.1; fill:none\" points=\"\n",
       "  156.598,1222.7 2352.76,1222.7 \n",
       "  \"/>\n",
       "<polyline clip-path=\"url(#clip072)\" style=\"stroke:#000000; stroke-linecap:butt; stroke-linejoin:round; stroke-width:2; stroke-opacity:0.1; fill:none\" points=\"\n",
       "  156.598,938.572 2352.76,938.572 \n",
       "  \"/>\n",
       "<polyline clip-path=\"url(#clip072)\" style=\"stroke:#000000; stroke-linecap:butt; stroke-linejoin:round; stroke-width:2; stroke-opacity:0.1; fill:none\" points=\"\n",
       "  156.598,654.443 2352.76,654.443 \n",
       "  \"/>\n",
       "<polyline clip-path=\"url(#clip072)\" style=\"stroke:#000000; stroke-linecap:butt; stroke-linejoin:round; stroke-width:2; stroke-opacity:0.1; fill:none\" points=\"\n",
       "  156.598,370.315 2352.76,370.315 \n",
       "  \"/>\n",
       "<polyline clip-path=\"url(#clip072)\" style=\"stroke:#000000; stroke-linecap:butt; stroke-linejoin:round; stroke-width:2; stroke-opacity:0.1; fill:none\" points=\"\n",
       "  156.598,86.1857 2352.76,86.1857 \n",
       "  \"/>\n",
       "<polyline clip-path=\"url(#clip070)\" style=\"stroke:#000000; stroke-linecap:butt; stroke-linejoin:round; stroke-width:4; stroke-opacity:1; fill:none\" points=\"\n",
       "  156.598,1423.18 156.598,47.2441 \n",
       "  \"/>\n",
       "<polyline clip-path=\"url(#clip070)\" style=\"stroke:#000000; stroke-linecap:butt; stroke-linejoin:round; stroke-width:4; stroke-opacity:1; fill:none\" points=\"\n",
       "  156.598,1222.7 182.952,1222.7 \n",
       "  \"/>\n",
       "<polyline clip-path=\"url(#clip070)\" style=\"stroke:#000000; stroke-linecap:butt; stroke-linejoin:round; stroke-width:4; stroke-opacity:1; fill:none\" points=\"\n",
       "  156.598,938.572 182.952,938.572 \n",
       "  \"/>\n",
       "<polyline clip-path=\"url(#clip070)\" style=\"stroke:#000000; stroke-linecap:butt; stroke-linejoin:round; stroke-width:4; stroke-opacity:1; fill:none\" points=\"\n",
       "  156.598,654.443 182.952,654.443 \n",
       "  \"/>\n",
       "<polyline clip-path=\"url(#clip070)\" style=\"stroke:#000000; stroke-linecap:butt; stroke-linejoin:round; stroke-width:4; stroke-opacity:1; fill:none\" points=\"\n",
       "  156.598,370.315 182.952,370.315 \n",
       "  \"/>\n",
       "<polyline clip-path=\"url(#clip070)\" style=\"stroke:#000000; stroke-linecap:butt; stroke-linejoin:round; stroke-width:4; stroke-opacity:1; fill:none\" points=\"\n",
       "  156.598,86.1857 182.952,86.1857 \n",
       "  \"/>\n",
       "<path clip-path=\"url(#clip070)\" d=\"M65.0198 1208.5 Q61.4087 1208.5 59.58 1212.06 Q57.7745 1215.61 57.7745 1222.74 Q57.7745 1229.84 59.58 1233.41 Q61.4087 1236.95 65.0198 1236.95 Q68.6541 1236.95 70.4596 1233.41 Q72.2883 1229.84 72.2883 1222.74 Q72.2883 1215.61 70.4596 1212.06 Q68.6541 1208.5 65.0198 1208.5 M65.0198 1204.8 Q70.83 1204.8 73.8855 1209.4 Q76.9642 1213.99 76.9642 1222.74 Q76.9642 1231.46 73.8855 1236.07 Q70.83 1240.65 65.0198 1240.65 Q59.2097 1240.65 56.131 1236.07 Q53.0754 1231.46 53.0754 1222.74 Q53.0754 1213.99 56.131 1209.4 Q59.2097 1204.8 65.0198 1204.8 Z\" fill=\"#000000\" fill-rule=\"evenodd\" fill-opacity=\"1\" /><path clip-path=\"url(#clip070)\" d=\"M85.1818 1234.1 L90.066 1234.1 L90.066 1239.98 L85.1818 1239.98 L85.1818 1234.1 Z\" fill=\"#000000\" fill-rule=\"evenodd\" fill-opacity=\"1\" /><path clip-path=\"url(#clip070)\" d=\"M104.279 1236.05 L120.598 1236.05 L120.598 1239.98 L98.6539 1239.98 L98.6539 1236.05 Q101.316 1233.29 105.899 1228.66 Q110.506 1224.01 111.686 1222.67 Q113.932 1220.14 114.811 1218.41 Q115.714 1216.65 115.714 1214.96 Q115.714 1212.2 113.77 1210.47 Q111.848 1208.73 108.746 1208.73 Q106.547 1208.73 104.094 1209.5 Q101.663 1210.26 98.8854 1211.81 L98.8854 1207.09 Q101.709 1205.95 104.163 1205.38 Q106.617 1204.8 108.654 1204.8 Q114.024 1204.8 117.219 1207.48 Q120.413 1210.17 120.413 1214.66 Q120.413 1216.79 119.603 1218.71 Q118.816 1220.61 116.709 1223.2 Q116.131 1223.87 113.029 1227.09 Q109.927 1230.28 104.279 1236.05 Z\" fill=\"#000000\" fill-rule=\"evenodd\" fill-opacity=\"1\" /><path clip-path=\"url(#clip070)\" d=\"M62.9365 924.371 Q59.3254 924.371 57.4967 927.936 Q55.6912 931.478 55.6912 938.607 Q55.6912 945.714 57.4967 949.278 Q59.3254 952.82 62.9365 952.82 Q66.5707 952.82 68.3763 949.278 Q70.205 945.714 70.205 938.607 Q70.205 931.478 68.3763 927.936 Q66.5707 924.371 62.9365 924.371 M62.9365 920.667 Q68.7467 920.667 71.8022 925.274 Q74.8809 929.857 74.8809 938.607 Q74.8809 947.334 71.8022 951.94 Q68.7467 956.524 62.9365 956.524 Q57.1264 956.524 54.0477 951.94 Q50.9921 947.334 50.9921 938.607 Q50.9921 929.857 54.0477 925.274 Q57.1264 920.667 62.9365 920.667 Z\" fill=\"#000000\" fill-rule=\"evenodd\" fill-opacity=\"1\" /><path clip-path=\"url(#clip070)\" d=\"M83.0984 949.973 L87.9827 949.973 L87.9827 955.852 L83.0984 955.852 L83.0984 949.973 Z\" fill=\"#000000\" fill-rule=\"evenodd\" fill-opacity=\"1\" /><path clip-path=\"url(#clip070)\" d=\"M111.015 925.366 L99.2095 943.815 L111.015 943.815 L111.015 925.366 M109.788 921.292 L115.668 921.292 L115.668 943.815 L120.598 943.815 L120.598 947.704 L115.668 947.704 L115.668 955.852 L111.015 955.852 L111.015 947.704 L95.4132 947.704 L95.4132 943.19 L109.788 921.292 Z\" fill=\"#000000\" fill-rule=\"evenodd\" fill-opacity=\"1\" /><path clip-path=\"url(#clip070)\" d=\"M63.2606 640.242 Q59.6495 640.242 57.8208 643.807 Q56.0152 647.349 56.0152 654.478 Q56.0152 661.585 57.8208 665.149 Q59.6495 668.691 63.2606 668.691 Q66.8948 668.691 68.7004 665.149 Q70.5291 661.585 70.5291 654.478 Q70.5291 647.349 68.7004 643.807 Q66.8948 640.242 63.2606 640.242 M63.2606 636.538 Q69.0707 636.538 72.1263 641.145 Q75.205 645.728 75.205 654.478 Q75.205 663.205 72.1263 667.811 Q69.0707 672.395 63.2606 672.395 Q57.4504 672.395 54.3717 667.811 Q51.3162 663.205 51.3162 654.478 Q51.3162 645.728 54.3717 641.145 Q57.4504 636.538 63.2606 636.538 Z\" fill=\"#000000\" fill-rule=\"evenodd\" fill-opacity=\"1\" /><path clip-path=\"url(#clip070)\" d=\"M83.4225 665.844 L88.3067 665.844 L88.3067 671.723 L83.4225 671.723 L83.4225 665.844 Z\" fill=\"#000000\" fill-rule=\"evenodd\" fill-opacity=\"1\" /><path clip-path=\"url(#clip070)\" d=\"M109.071 652.58 Q105.922 652.58 104.071 654.733 Q102.242 656.886 102.242 660.636 Q102.242 664.362 104.071 666.538 Q105.922 668.691 109.071 668.691 Q112.219 668.691 114.047 666.538 Q115.899 664.362 115.899 660.636 Q115.899 656.886 114.047 654.733 Q112.219 652.58 109.071 652.58 M118.353 637.927 L118.353 642.187 Q116.594 641.353 114.788 640.913 Q113.006 640.474 111.246 640.474 Q106.617 640.474 104.163 643.599 Q101.733 646.724 101.385 653.043 Q102.751 651.029 104.811 649.964 Q106.871 648.876 109.348 648.876 Q114.557 648.876 117.566 652.048 Q120.598 655.196 120.598 660.636 Q120.598 665.96 117.45 669.177 Q114.302 672.395 109.071 672.395 Q103.075 672.395 99.9039 667.811 Q96.7326 663.205 96.7326 654.478 Q96.7326 646.284 100.621 641.423 Q104.51 636.538 111.061 636.538 Q112.82 636.538 114.603 636.886 Q116.408 637.233 118.353 637.927 Z\" fill=\"#000000\" fill-rule=\"evenodd\" fill-opacity=\"1\" /><path clip-path=\"url(#clip070)\" d=\"M63.5152 356.113 Q59.9041 356.113 58.0754 359.678 Q56.2699 363.22 56.2699 370.349 Q56.2699 377.456 58.0754 381.021 Q59.9041 384.562 63.5152 384.562 Q67.1494 384.562 68.955 381.021 Q70.7837 377.456 70.7837 370.349 Q70.7837 363.22 68.955 359.678 Q67.1494 356.113 63.5152 356.113 M63.5152 352.41 Q69.3254 352.41 72.3809 357.016 Q75.4596 361.599 75.4596 370.349 Q75.4596 379.076 72.3809 383.683 Q69.3254 388.266 63.5152 388.266 Q57.7051 388.266 54.6264 383.683 Q51.5708 379.076 51.5708 370.349 Q51.5708 361.599 54.6264 357.016 Q57.7051 352.41 63.5152 352.41 Z\" fill=\"#000000\" fill-rule=\"evenodd\" fill-opacity=\"1\" /><path clip-path=\"url(#clip070)\" d=\"M83.6771 381.715 L88.5614 381.715 L88.5614 387.595 L83.6771 387.595 L83.6771 381.715 Z\" fill=\"#000000\" fill-rule=\"evenodd\" fill-opacity=\"1\" /><path clip-path=\"url(#clip070)\" d=\"M108.746 371.183 Q105.413 371.183 103.492 372.965 Q101.594 374.747 101.594 377.872 Q101.594 380.997 103.492 382.78 Q105.413 384.562 108.746 384.562 Q112.08 384.562 114.001 382.78 Q115.922 380.974 115.922 377.872 Q115.922 374.747 114.001 372.965 Q112.103 371.183 108.746 371.183 M104.071 369.192 Q101.061 368.451 99.3715 366.391 Q97.7048 364.331 97.7048 361.368 Q97.7048 357.224 100.645 354.817 Q103.608 352.41 108.746 352.41 Q113.908 352.41 116.848 354.817 Q119.788 357.224 119.788 361.368 Q119.788 364.331 118.098 366.391 Q116.432 368.451 113.445 369.192 Q116.825 369.979 118.7 372.271 Q120.598 374.562 120.598 377.872 Q120.598 382.896 117.52 385.581 Q114.464 388.266 108.746 388.266 Q103.029 388.266 99.9502 385.581 Q96.8947 382.896 96.8947 377.872 Q96.8947 374.562 98.7928 372.271 Q100.691 369.979 104.071 369.192 M102.358 361.808 Q102.358 364.493 104.024 365.997 Q105.714 367.502 108.746 367.502 Q111.756 367.502 113.445 365.997 Q115.158 364.493 115.158 361.808 Q115.158 359.123 113.445 357.618 Q111.756 356.113 108.746 356.113 Q105.714 356.113 104.024 357.618 Q102.358 359.123 102.358 361.808 Z\" fill=\"#000000\" fill-rule=\"evenodd\" fill-opacity=\"1\" /><path clip-path=\"url(#clip070)\" d=\"M54.2328 99.5305 L61.8717 99.5305 L61.8717 73.1649 L53.5616 74.8316 L53.5616 70.5723 L61.8254 68.9057 L66.5013 68.9057 L66.5013 99.5305 L74.1402 99.5305 L74.1402 103.466 L54.2328 103.466 L54.2328 99.5305 Z\" fill=\"#000000\" fill-rule=\"evenodd\" fill-opacity=\"1\" /><path clip-path=\"url(#clip070)\" d=\"M83.5845 97.5861 L88.4688 97.5861 L88.4688 103.466 L83.5845 103.466 L83.5845 97.5861 Z\" fill=\"#000000\" fill-rule=\"evenodd\" fill-opacity=\"1\" /><path clip-path=\"url(#clip070)\" d=\"M108.654 71.9844 Q105.043 71.9844 103.214 75.5492 Q101.409 79.0908 101.409 86.2204 Q101.409 93.3268 103.214 96.8916 Q105.043 100.433 108.654 100.433 Q112.288 100.433 114.094 96.8916 Q115.922 93.3268 115.922 86.2204 Q115.922 79.0908 114.094 75.5492 Q112.288 71.9844 108.654 71.9844 M108.654 68.2807 Q114.464 68.2807 117.52 72.8871 Q120.598 77.4704 120.598 86.2204 Q120.598 94.9472 117.52 99.5537 Q114.464 104.137 108.654 104.137 Q102.844 104.137 99.765 99.5537 Q96.7095 94.9472 96.7095 86.2204 Q96.7095 77.4704 99.765 72.8871 Q102.844 68.2807 108.654 68.2807 Z\" fill=\"#000000\" fill-rule=\"evenodd\" fill-opacity=\"1\" /><polyline clip-path=\"url(#clip072)\" style=\"stroke:#009af9; stroke-linecap:butt; stroke-linejoin:round; stroke-width:4; stroke-opacity:1; fill:none\" points=\"\n",
       "  218.754,86.1857 261.036,155.471 303.319,221.378 345.601,284.07 387.884,343.705 430.167,400.431 472.449,454.391 514.732,505.719 557.014,554.544 599.297,600.987 \n",
       "  641.58,645.166 683.862,687.19 726.145,727.164 768.427,765.189 810.71,801.359 852.992,835.766 895.275,868.494 937.558,899.626 979.84,929.24 1022.12,957.409 \n",
       "  1064.41,984.205 1106.69,1009.69 1148.97,1033.94 1191.25,1057 1233.54,1078.94 1275.82,1099.81 1318.1,1119.66 1360.38,1138.54 1402.67,1156.5 1444.95,1173.59 \n",
       "  1487.23,1189.84 1529.51,1205.3 1571.8,1220.01 1614.08,1234 1656.36,1247.3 1698.64,1259.96 1740.93,1272 1783.21,1283.45 1825.49,1294.35 1867.77,1304.71 \n",
       "  1910.06,1314.57 1952.34,1323.94 1994.62,1332.86 2036.9,1341.35 2079.19,1349.42 2121.47,1357.1 2163.75,1364.4 2206.04,1371.35 2248.32,1377.95 2290.6,1384.24 \n",
       "  \n",
       "  \"/>\n",
       "<circle clip-path=\"url(#clip072)\" cx=\"218.754\" cy=\"86.1857\" r=\"14\" fill=\"#e26f46\" fill-rule=\"evenodd\" fill-opacity=\"1\" stroke=\"#000000\" stroke-opacity=\"1\" stroke-width=\"3.2\"/>\n",
       "<circle clip-path=\"url(#clip072)\" cx=\"261.036\" cy=\"155.471\" r=\"14\" fill=\"#e26f46\" fill-rule=\"evenodd\" fill-opacity=\"1\" stroke=\"#000000\" stroke-opacity=\"1\" stroke-width=\"3.2\"/>\n",
       "<circle clip-path=\"url(#clip072)\" cx=\"303.319\" cy=\"221.378\" r=\"14\" fill=\"#e26f46\" fill-rule=\"evenodd\" fill-opacity=\"1\" stroke=\"#000000\" stroke-opacity=\"1\" stroke-width=\"3.2\"/>\n",
       "<circle clip-path=\"url(#clip072)\" cx=\"345.601\" cy=\"284.07\" r=\"14\" fill=\"#e26f46\" fill-rule=\"evenodd\" fill-opacity=\"1\" stroke=\"#000000\" stroke-opacity=\"1\" stroke-width=\"3.2\"/>\n",
       "<circle clip-path=\"url(#clip072)\" cx=\"387.884\" cy=\"343.705\" r=\"14\" fill=\"#e26f46\" fill-rule=\"evenodd\" fill-opacity=\"1\" stroke=\"#000000\" stroke-opacity=\"1\" stroke-width=\"3.2\"/>\n",
       "<circle clip-path=\"url(#clip072)\" cx=\"430.167\" cy=\"400.431\" r=\"14\" fill=\"#e26f46\" fill-rule=\"evenodd\" fill-opacity=\"1\" stroke=\"#000000\" stroke-opacity=\"1\" stroke-width=\"3.2\"/>\n",
       "<circle clip-path=\"url(#clip072)\" cx=\"472.449\" cy=\"454.391\" r=\"14\" fill=\"#e26f46\" fill-rule=\"evenodd\" fill-opacity=\"1\" stroke=\"#000000\" stroke-opacity=\"1\" stroke-width=\"3.2\"/>\n",
       "<circle clip-path=\"url(#clip072)\" cx=\"514.732\" cy=\"505.719\" r=\"14\" fill=\"#e26f46\" fill-rule=\"evenodd\" fill-opacity=\"1\" stroke=\"#000000\" stroke-opacity=\"1\" stroke-width=\"3.2\"/>\n",
       "<circle clip-path=\"url(#clip072)\" cx=\"557.014\" cy=\"554.544\" r=\"14\" fill=\"#e26f46\" fill-rule=\"evenodd\" fill-opacity=\"1\" stroke=\"#000000\" stroke-opacity=\"1\" stroke-width=\"3.2\"/>\n",
       "<circle clip-path=\"url(#clip072)\" cx=\"599.297\" cy=\"600.987\" r=\"14\" fill=\"#e26f46\" fill-rule=\"evenodd\" fill-opacity=\"1\" stroke=\"#000000\" stroke-opacity=\"1\" stroke-width=\"3.2\"/>\n",
       "<circle clip-path=\"url(#clip072)\" cx=\"641.58\" cy=\"645.166\" r=\"14\" fill=\"#e26f46\" fill-rule=\"evenodd\" fill-opacity=\"1\" stroke=\"#000000\" stroke-opacity=\"1\" stroke-width=\"3.2\"/>\n",
       "<circle clip-path=\"url(#clip072)\" cx=\"683.862\" cy=\"687.19\" r=\"14\" fill=\"#e26f46\" fill-rule=\"evenodd\" fill-opacity=\"1\" stroke=\"#000000\" stroke-opacity=\"1\" stroke-width=\"3.2\"/>\n",
       "<circle clip-path=\"url(#clip072)\" cx=\"726.145\" cy=\"727.164\" r=\"14\" fill=\"#e26f46\" fill-rule=\"evenodd\" fill-opacity=\"1\" stroke=\"#000000\" stroke-opacity=\"1\" stroke-width=\"3.2\"/>\n",
       "<circle clip-path=\"url(#clip072)\" cx=\"768.427\" cy=\"765.189\" r=\"14\" fill=\"#e26f46\" fill-rule=\"evenodd\" fill-opacity=\"1\" stroke=\"#000000\" stroke-opacity=\"1\" stroke-width=\"3.2\"/>\n",
       "<circle clip-path=\"url(#clip072)\" cx=\"810.71\" cy=\"801.359\" r=\"14\" fill=\"#e26f46\" fill-rule=\"evenodd\" fill-opacity=\"1\" stroke=\"#000000\" stroke-opacity=\"1\" stroke-width=\"3.2\"/>\n",
       "<circle clip-path=\"url(#clip072)\" cx=\"852.992\" cy=\"835.765\" r=\"14\" fill=\"#e26f46\" fill-rule=\"evenodd\" fill-opacity=\"1\" stroke=\"#000000\" stroke-opacity=\"1\" stroke-width=\"3.2\"/>\n",
       "<circle clip-path=\"url(#clip072)\" cx=\"895.275\" cy=\"868.493\" r=\"14\" fill=\"#e26f46\" fill-rule=\"evenodd\" fill-opacity=\"1\" stroke=\"#000000\" stroke-opacity=\"1\" stroke-width=\"3.2\"/>\n",
       "<circle clip-path=\"url(#clip072)\" cx=\"937.558\" cy=\"899.626\" r=\"14\" fill=\"#e26f46\" fill-rule=\"evenodd\" fill-opacity=\"1\" stroke=\"#000000\" stroke-opacity=\"1\" stroke-width=\"3.2\"/>\n",
       "<circle clip-path=\"url(#clip072)\" cx=\"979.84\" cy=\"929.239\" r=\"14\" fill=\"#e26f46\" fill-rule=\"evenodd\" fill-opacity=\"1\" stroke=\"#000000\" stroke-opacity=\"1\" stroke-width=\"3.2\"/>\n",
       "<circle clip-path=\"url(#clip072)\" cx=\"1022.12\" cy=\"957.409\" r=\"14\" fill=\"#e26f46\" fill-rule=\"evenodd\" fill-opacity=\"1\" stroke=\"#000000\" stroke-opacity=\"1\" stroke-width=\"3.2\"/>\n",
       "<circle clip-path=\"url(#clip072)\" cx=\"1064.41\" cy=\"984.204\" r=\"14\" fill=\"#e26f46\" fill-rule=\"evenodd\" fill-opacity=\"1\" stroke=\"#000000\" stroke-opacity=\"1\" stroke-width=\"3.2\"/>\n",
       "<circle clip-path=\"url(#clip072)\" cx=\"1106.69\" cy=\"1009.69\" r=\"14\" fill=\"#e26f46\" fill-rule=\"evenodd\" fill-opacity=\"1\" stroke=\"#000000\" stroke-opacity=\"1\" stroke-width=\"3.2\"/>\n",
       "<circle clip-path=\"url(#clip072)\" cx=\"1148.97\" cy=\"1033.94\" r=\"14\" fill=\"#e26f46\" fill-rule=\"evenodd\" fill-opacity=\"1\" stroke=\"#000000\" stroke-opacity=\"1\" stroke-width=\"3.2\"/>\n",
       "<circle clip-path=\"url(#clip072)\" cx=\"1191.25\" cy=\"1057\" r=\"14\" fill=\"#e26f46\" fill-rule=\"evenodd\" fill-opacity=\"1\" stroke=\"#000000\" stroke-opacity=\"1\" stroke-width=\"3.2\"/>\n",
       "<circle clip-path=\"url(#clip072)\" cx=\"1233.54\" cy=\"1078.94\" r=\"14\" fill=\"#e26f46\" fill-rule=\"evenodd\" fill-opacity=\"1\" stroke=\"#000000\" stroke-opacity=\"1\" stroke-width=\"3.2\"/>\n",
       "<circle clip-path=\"url(#clip072)\" cx=\"1275.82\" cy=\"1099.81\" r=\"14\" fill=\"#e26f46\" fill-rule=\"evenodd\" fill-opacity=\"1\" stroke=\"#000000\" stroke-opacity=\"1\" stroke-width=\"3.2\"/>\n",
       "<circle clip-path=\"url(#clip072)\" cx=\"1318.1\" cy=\"1119.66\" r=\"14\" fill=\"#e26f46\" fill-rule=\"evenodd\" fill-opacity=\"1\" stroke=\"#000000\" stroke-opacity=\"1\" stroke-width=\"3.2\"/>\n",
       "<circle clip-path=\"url(#clip072)\" cx=\"1360.38\" cy=\"1138.54\" r=\"14\" fill=\"#e26f46\" fill-rule=\"evenodd\" fill-opacity=\"1\" stroke=\"#000000\" stroke-opacity=\"1\" stroke-width=\"3.2\"/>\n",
       "<circle clip-path=\"url(#clip072)\" cx=\"1402.67\" cy=\"1156.5\" r=\"14\" fill=\"#e26f46\" fill-rule=\"evenodd\" fill-opacity=\"1\" stroke=\"#000000\" stroke-opacity=\"1\" stroke-width=\"3.2\"/>\n",
       "<circle clip-path=\"url(#clip072)\" cx=\"1444.95\" cy=\"1173.59\" r=\"14\" fill=\"#e26f46\" fill-rule=\"evenodd\" fill-opacity=\"1\" stroke=\"#000000\" stroke-opacity=\"1\" stroke-width=\"3.2\"/>\n",
       "<circle clip-path=\"url(#clip072)\" cx=\"1487.23\" cy=\"1189.84\" r=\"14\" fill=\"#e26f46\" fill-rule=\"evenodd\" fill-opacity=\"1\" stroke=\"#000000\" stroke-opacity=\"1\" stroke-width=\"3.2\"/>\n",
       "<circle clip-path=\"url(#clip072)\" cx=\"1529.51\" cy=\"1205.3\" r=\"14\" fill=\"#e26f46\" fill-rule=\"evenodd\" fill-opacity=\"1\" stroke=\"#000000\" stroke-opacity=\"1\" stroke-width=\"3.2\"/>\n",
       "<circle clip-path=\"url(#clip072)\" cx=\"1571.8\" cy=\"1220.01\" r=\"14\" fill=\"#e26f46\" fill-rule=\"evenodd\" fill-opacity=\"1\" stroke=\"#000000\" stroke-opacity=\"1\" stroke-width=\"3.2\"/>\n",
       "<circle clip-path=\"url(#clip072)\" cx=\"1614.08\" cy=\"1234\" r=\"14\" fill=\"#e26f46\" fill-rule=\"evenodd\" fill-opacity=\"1\" stroke=\"#000000\" stroke-opacity=\"1\" stroke-width=\"3.2\"/>\n",
       "<circle clip-path=\"url(#clip072)\" cx=\"1656.36\" cy=\"1247.3\" r=\"14\" fill=\"#e26f46\" fill-rule=\"evenodd\" fill-opacity=\"1\" stroke=\"#000000\" stroke-opacity=\"1\" stroke-width=\"3.2\"/>\n",
       "<circle clip-path=\"url(#clip072)\" cx=\"1698.64\" cy=\"1259.96\" r=\"14\" fill=\"#e26f46\" fill-rule=\"evenodd\" fill-opacity=\"1\" stroke=\"#000000\" stroke-opacity=\"1\" stroke-width=\"3.2\"/>\n",
       "<circle clip-path=\"url(#clip072)\" cx=\"1740.93\" cy=\"1272\" r=\"14\" fill=\"#e26f46\" fill-rule=\"evenodd\" fill-opacity=\"1\" stroke=\"#000000\" stroke-opacity=\"1\" stroke-width=\"3.2\"/>\n",
       "<circle clip-path=\"url(#clip072)\" cx=\"1783.21\" cy=\"1283.45\" r=\"14\" fill=\"#e26f46\" fill-rule=\"evenodd\" fill-opacity=\"1\" stroke=\"#000000\" stroke-opacity=\"1\" stroke-width=\"3.2\"/>\n",
       "<circle clip-path=\"url(#clip072)\" cx=\"1825.49\" cy=\"1294.35\" r=\"14\" fill=\"#e26f46\" fill-rule=\"evenodd\" fill-opacity=\"1\" stroke=\"#000000\" stroke-opacity=\"1\" stroke-width=\"3.2\"/>\n",
       "<circle clip-path=\"url(#clip072)\" cx=\"1867.77\" cy=\"1304.71\" r=\"14\" fill=\"#e26f46\" fill-rule=\"evenodd\" fill-opacity=\"1\" stroke=\"#000000\" stroke-opacity=\"1\" stroke-width=\"3.2\"/>\n",
       "<circle clip-path=\"url(#clip072)\" cx=\"1910.06\" cy=\"1314.57\" r=\"14\" fill=\"#e26f46\" fill-rule=\"evenodd\" fill-opacity=\"1\" stroke=\"#000000\" stroke-opacity=\"1\" stroke-width=\"3.2\"/>\n",
       "<circle clip-path=\"url(#clip072)\" cx=\"1952.34\" cy=\"1323.94\" r=\"14\" fill=\"#e26f46\" fill-rule=\"evenodd\" fill-opacity=\"1\" stroke=\"#000000\" stroke-opacity=\"1\" stroke-width=\"3.2\"/>\n",
       "<circle clip-path=\"url(#clip072)\" cx=\"1994.62\" cy=\"1332.86\" r=\"14\" fill=\"#e26f46\" fill-rule=\"evenodd\" fill-opacity=\"1\" stroke=\"#000000\" stroke-opacity=\"1\" stroke-width=\"3.2\"/>\n",
       "<circle clip-path=\"url(#clip072)\" cx=\"2036.9\" cy=\"1341.35\" r=\"14\" fill=\"#e26f46\" fill-rule=\"evenodd\" fill-opacity=\"1\" stroke=\"#000000\" stroke-opacity=\"1\" stroke-width=\"3.2\"/>\n",
       "<circle clip-path=\"url(#clip072)\" cx=\"2079.19\" cy=\"1349.42\" r=\"14\" fill=\"#e26f46\" fill-rule=\"evenodd\" fill-opacity=\"1\" stroke=\"#000000\" stroke-opacity=\"1\" stroke-width=\"3.2\"/>\n",
       "<circle clip-path=\"url(#clip072)\" cx=\"2121.47\" cy=\"1357.1\" r=\"14\" fill=\"#e26f46\" fill-rule=\"evenodd\" fill-opacity=\"1\" stroke=\"#000000\" stroke-opacity=\"1\" stroke-width=\"3.2\"/>\n",
       "<circle clip-path=\"url(#clip072)\" cx=\"2163.75\" cy=\"1364.4\" r=\"14\" fill=\"#e26f46\" fill-rule=\"evenodd\" fill-opacity=\"1\" stroke=\"#000000\" stroke-opacity=\"1\" stroke-width=\"3.2\"/>\n",
       "<circle clip-path=\"url(#clip072)\" cx=\"2206.04\" cy=\"1371.34\" r=\"14\" fill=\"#e26f46\" fill-rule=\"evenodd\" fill-opacity=\"1\" stroke=\"#000000\" stroke-opacity=\"1\" stroke-width=\"3.2\"/>\n",
       "<circle clip-path=\"url(#clip072)\" cx=\"2248.32\" cy=\"1377.95\" r=\"14\" fill=\"#e26f46\" fill-rule=\"evenodd\" fill-opacity=\"1\" stroke=\"#000000\" stroke-opacity=\"1\" stroke-width=\"3.2\"/>\n",
       "<circle clip-path=\"url(#clip072)\" cx=\"2290.6\" cy=\"1384.24\" r=\"14\" fill=\"#e26f46\" fill-rule=\"evenodd\" fill-opacity=\"1\" stroke=\"#000000\" stroke-opacity=\"1\" stroke-width=\"3.2\"/>\n",
       "<path clip-path=\"url(#clip070)\" d=\"\n",
       "M1909.19 248.629 L2279.55 248.629 L2279.55 93.1086 L1909.19 93.1086  Z\n",
       "  \" fill=\"#ffffff\" fill-rule=\"evenodd\" fill-opacity=\"1\"/>\n",
       "<polyline clip-path=\"url(#clip070)\" style=\"stroke:#000000; stroke-linecap:butt; stroke-linejoin:round; stroke-width:4; stroke-opacity:1; fill:none\" points=\"\n",
       "  1909.19,248.629 2279.55,248.629 2279.55,93.1086 1909.19,93.1086 1909.19,248.629 \n",
       "  \"/>\n",
       "<polyline clip-path=\"url(#clip070)\" style=\"stroke:#009af9; stroke-linecap:butt; stroke-linejoin:round; stroke-width:4; stroke-opacity:1; fill:none\" points=\"\n",
       "  1933.59,144.949 2080,144.949 \n",
       "  \"/>\n",
       "<path clip-path=\"url(#clip070)\" d=\"M2126.12 146.581 L2126.12 162.229 L2121.86 162.229 L2121.86 146.719 Q2121.86 143.039 2120.42 141.21 Q2118.99 139.382 2116.12 139.382 Q2112.67 139.382 2110.68 141.581 Q2108.69 143.78 2108.69 147.576 L2108.69 162.229 L2104.41 162.229 L2104.41 136.303 L2108.69 136.303 L2108.69 140.331 Q2110.22 137.993 2112.28 136.835 Q2114.36 135.678 2117.07 135.678 Q2121.53 135.678 2123.83 138.456 Q2126.12 141.21 2126.12 146.581 Z\" fill=\"#000000\" fill-rule=\"evenodd\" fill-opacity=\"1\" /><path clip-path=\"url(#clip070)\" d=\"M2156.16 146.581 L2156.16 162.229 L2151.9 162.229 L2151.9 146.719 Q2151.9 143.039 2150.47 141.21 Q2149.03 139.382 2146.16 139.382 Q2142.72 139.382 2140.72 141.581 Q2138.73 143.78 2138.73 147.576 L2138.73 162.229 L2134.45 162.229 L2134.45 136.303 L2138.73 136.303 L2138.73 140.331 Q2140.26 137.993 2142.32 136.835 Q2144.41 135.678 2147.11 135.678 Q2151.58 135.678 2153.87 138.456 Q2156.16 141.21 2156.16 146.581 Z\" fill=\"#000000\" fill-rule=\"evenodd\" fill-opacity=\"1\" /><circle clip-path=\"url(#clip070)\" cx=\"2006.8\" cy=\"196.789\" r=\"23\" fill=\"#e26f46\" fill-rule=\"evenodd\" fill-opacity=\"1\" stroke=\"#000000\" stroke-opacity=\"1\" stroke-width=\"5.12\"/>\n",
       "<path clip-path=\"url(#clip070)\" d=\"M2128.43 200.041 L2128.43 202.124 L2108.85 202.124 Q2109.13 206.522 2111.49 208.837 Q2113.87 211.129 2118.11 211.129 Q2120.56 211.129 2122.85 210.527 Q2125.17 209.925 2127.44 208.721 L2127.44 212.749 Q2125.15 213.721 2122.74 214.231 Q2120.33 214.74 2117.85 214.74 Q2111.65 214.74 2108.02 211.129 Q2104.41 207.518 2104.41 201.36 Q2104.41 194.995 2107.83 191.268 Q2111.28 187.518 2117.11 187.518 Q2122.34 187.518 2125.38 190.897 Q2128.43 194.254 2128.43 200.041 M2124.17 198.791 Q2124.13 195.296 2122.21 193.212 Q2120.31 191.129 2117.16 191.129 Q2113.59 191.129 2111.44 193.143 Q2109.31 195.157 2108.99 198.814 L2124.17 198.791 Z\" fill=\"#000000\" fill-rule=\"evenodd\" fill-opacity=\"1\" /><path clip-path=\"url(#clip070)\" d=\"M2156.14 188.143 L2146.77 200.759 L2156.63 214.069 L2151.6 214.069 L2144.06 203.883 L2136.51 214.069 L2131.49 214.069 L2141.56 200.504 L2132.34 188.143 L2137.37 188.143 L2144.24 197.379 L2151.12 188.143 L2156.14 188.143 Z\" fill=\"#000000\" fill-rule=\"evenodd\" fill-opacity=\"1\" /><path clip-path=\"url(#clip070)\" d=\"M2174.43 201.036 Q2169.27 201.036 2167.28 202.217 Q2165.28 203.397 2165.28 206.245 Q2165.28 208.513 2166.77 209.856 Q2168.27 211.175 2170.84 211.175 Q2174.38 211.175 2176.51 208.675 Q2178.66 206.152 2178.66 201.985 L2178.66 201.036 L2174.43 201.036 M2182.92 199.277 L2182.92 214.069 L2178.66 214.069 L2178.66 210.133 Q2177.21 212.495 2175.03 213.629 Q2172.85 214.74 2169.71 214.74 Q2165.72 214.74 2163.36 212.518 Q2161.03 210.272 2161.03 206.522 Q2161.03 202.147 2163.94 199.925 Q2166.88 197.703 2172.69 197.703 L2178.66 197.703 L2178.66 197.286 Q2178.66 194.347 2176.72 192.749 Q2174.8 191.129 2171.3 191.129 Q2169.08 191.129 2166.97 191.661 Q2164.87 192.194 2162.92 193.259 L2162.92 189.323 Q2165.26 188.421 2167.46 187.981 Q2169.66 187.518 2171.74 187.518 Q2177.37 187.518 2180.15 190.434 Q2182.92 193.351 2182.92 199.277 Z\" fill=\"#000000\" fill-rule=\"evenodd\" fill-opacity=\"1\" /><path clip-path=\"url(#clip070)\" d=\"M2210.35 189.138 L2210.35 193.12 Q2208.55 192.124 2206.72 191.638 Q2204.91 191.129 2203.06 191.129 Q2198.92 191.129 2196.63 193.768 Q2194.34 196.384 2194.34 201.129 Q2194.34 205.874 2196.63 208.513 Q2198.92 211.129 2203.06 211.129 Q2204.91 211.129 2206.72 210.643 Q2208.55 210.133 2210.35 209.138 L2210.35 213.073 Q2208.57 213.907 2206.65 214.323 Q2204.75 214.74 2202.6 214.74 Q2196.74 214.74 2193.29 211.059 Q2189.84 207.379 2189.84 201.129 Q2189.84 194.786 2193.32 191.152 Q2196.81 187.518 2202.88 187.518 Q2204.84 187.518 2206.72 187.935 Q2208.59 188.328 2210.35 189.138 Z\" fill=\"#000000\" fill-rule=\"evenodd\" fill-opacity=\"1\" /><path clip-path=\"url(#clip070)\" d=\"M2221.97 180.782 L2221.97 188.143 L2230.75 188.143 L2230.75 191.453 L2221.97 191.453 L2221.97 205.527 Q2221.97 208.698 2222.83 209.601 Q2223.71 210.504 2226.37 210.504 L2230.75 210.504 L2230.75 214.069 L2226.37 214.069 Q2221.44 214.069 2219.57 212.24 Q2217.69 210.388 2217.69 205.527 L2217.69 191.453 L2214.57 191.453 L2214.57 188.143 L2217.69 188.143 L2217.69 180.782 L2221.97 180.782 Z\" fill=\"#000000\" fill-rule=\"evenodd\" fill-opacity=\"1\" /></svg>\n"
      ]
     },
     "execution_count": 174,
     "metadata": {},
     "output_type": "execute_result"
    }
   ],
   "source": [
    "plot(t, u, label=\"nn\", xlabel=\"t\")\n",
    "scatter!(t, exp.(-t), label=\"exact\")"
   ]
  },
  {
   "cell_type": "code",
   "execution_count": null,
   "metadata": {},
   "outputs": [],
   "source": []
  }
 ],
 "metadata": {
  "kernelspec": {
   "display_name": "Julia 1.6.1",
   "language": "julia",
   "name": "julia-1.6"
  },
  "language_info": {
   "file_extension": ".jl",
   "mimetype": "application/julia",
   "name": "julia",
   "version": "1.6.1"
  }
 },
 "nbformat": 4,
 "nbformat_minor": 4
}
