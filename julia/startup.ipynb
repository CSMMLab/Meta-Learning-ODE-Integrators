{
 "cells": [
  {
   "cell_type": "markdown",
   "metadata": {},
   "source": [
    "# On neural integragors for ordinary differential equations"
   ]
  },
  {
   "cell_type": "markdown",
   "metadata": {},
   "source": [
    "Runge-Kutta methods focus on a family of initial value problems.\n",
    "\n",
    "$y'=f(t,y), \\quad y(t_0)=y_0$\n",
    "\n",
    "Runge-Kutta methods don't care about details of the right-hand side $f$, so it can be as generic as possible, e.g. scalar/vector, time homogeneous/inhomogeneous, etc.\n",
    "\n",
    "In our implementation, we hope to keep this feature. Any function can be passed to the neural integrator as its argument."
   ]
  },
  {
   "cell_type": "code",
   "execution_count": 1,
   "metadata": {},
   "outputs": [
    {
     "data": {
      "text/plain": [
       "Plots.PyPlotBackend()"
      ]
     },
     "execution_count": 1,
     "metadata": {},
     "output_type": "execute_result"
    }
   ],
   "source": [
    "using Flux, Solaris, OrdinaryDiffEq, Plots, Solaris.DiffEqFlux, Test\n",
    "Plots.pyplot()"
   ]
  },
  {
   "cell_type": "markdown",
   "metadata": {},
   "source": [
    "Let's consider the scalar equation first.\n",
    "\n",
    "simple one:\n",
    "\n",
    "$f = -e^{-t} \\rightarrow y=e^{-t}+C$\n",
    "\n",
    "complex one:\n",
    "\n",
    "$f = -ye^{-t}$"
   ]
  },
  {
   "cell_type": "code",
   "execution_count": 2,
   "metadata": {},
   "outputs": [
    {
     "data": {
      "text/plain": [
       "f (generic function with 2 methods)"
      ]
     },
     "execution_count": 2,
     "metadata": {},
     "output_type": "execute_result"
    }
   ],
   "source": [
    "f(y, t) = -exp(-t) * y\n",
    "f(y, p, t) = -exp(-t) * y # parameterized equation for DifferentialEquations.jl"
   ]
  },
  {
   "cell_type": "code",
   "execution_count": null,
   "metadata": {},
   "outputs": [],
   "source": []
  },
  {
   "cell_type": "markdown",
   "metadata": {},
   "source": [
    "## Data generation"
   ]
  },
  {
   "cell_type": "markdown",
   "metadata": {},
   "source": [
    "We define the computational parameters."
   ]
  },
  {
   "cell_type": "code",
   "execution_count": 3,
   "metadata": {},
   "outputs": [
    {
     "data": {
      "text/plain": [
       "0.1"
      ]
     },
     "execution_count": 3,
     "metadata": {},
     "output_type": "execute_result"
    }
   ],
   "source": [
    "h = 0.1 # time step"
   ]
  },
  {
   "cell_type": "markdown",
   "metadata": {},
   "source": [
    "Then we prepare the dataset.\n",
    "It can be produced following theoretical solution (if it exists) or by numerical solver."
   ]
  },
  {
   "cell_type": "code",
   "execution_count": 4,
   "metadata": {},
   "outputs": [
    {
     "name": "stdout",
     "output_type": "stream",
     "text": [
      "Y1 ≈ Y = false\n"
     ]
    },
    {
     "data": {
      "text/plain": [
       "1×1000 Matrix{Float32}:\n",
       " 0.859101  0.0787001  -0.159207  -1.3573  …  0.45256  -1.79873  1.94718"
      ]
     },
     "execution_count": 4,
     "metadata": {},
     "output_type": "execute_result"
    }
   ],
   "source": [
    "X = randn(Float32, 1, 1000)\n",
    "T = rand(Float32, 1, 1000) * 50\n",
    "\n",
    "Y = zeros(Float32, 1, 1000)\n",
    "for i in axes(X, 2)\n",
    "    u0 = X[1, i]\n",
    "    t0 = T[1, i]\n",
    "    C = u0 - exp(-t0)\n",
    "    Y[1, i] = exp(-(t0+h)) + C\n",
    "end\n",
    "\n",
    "Y1 = zeros(Float32, 1, 1000)\n",
    "for i in axes(X, 2)\n",
    "    u0 = X[1, i]\n",
    "    tspan = (T[1, i], T[1, i] + h)\n",
    "    prob = ODEProblem(f, u0, tspan)\n",
    "    sol = solve(prob, Tsit5(), dt = h, adaptive=false)\n",
    "    Y1[1, i] = sol.u[end]\n",
    "end\n",
    "\n",
    "@show Y1 ≈ Y # the two results shoud be equivalent in the sense of numerical error\n",
    "Y .= Y1"
   ]
  },
  {
   "cell_type": "code",
   "execution_count": null,
   "metadata": {},
   "outputs": [],
   "source": []
  },
  {
   "cell_type": "markdown",
   "metadata": {},
   "source": [
    "## Model architecture"
   ]
  },
  {
   "cell_type": "markdown",
   "metadata": {},
   "source": [
    "The key is to parameterized the numerical scheme.\n",
    "\n",
    "We first follow the solution algorithm in a multi-step Runge-Kutta scheme, and define the learnable parameters."
   ]
  },
  {
   "cell_type": "code",
   "execution_count": 5,
   "metadata": {},
   "outputs": [
    {
     "data": {
      "text/plain": [
       "kutta3 (generic function with 1 method)"
      ]
     },
     "execution_count": 5,
     "metadata": {},
     "output_type": "execute_result"
    }
   ],
   "source": [
    "init = :allzero # kutta3\n",
    "\n",
    "# p[9]\n",
    "# p[1:3]: a21, a31, a32\n",
    "# p[4:6]: b\n",
    "# p[7:9]: c\n",
    "\n",
    "function init_params(p, init=:allzero)\n",
    "    eval(init)(p)\n",
    "end\n",
    "\n",
    "function allzero(p)\n",
    "    p .= 0.\n",
    "end\n",
    "\n",
    "function kutta3(p)\n",
    "    a21 = 1/2\n",
    "    a31 = -1\n",
    "    a32 = 2\n",
    "    b1 = 1/6\n",
    "    b2 = 2/3\n",
    "    b3 = 1/6\n",
    "    c1 = 0\n",
    "    c2 = 1/2\n",
    "    c3 = 1\n",
    "    \n",
    "    p .= Float32[a21, a31, a32, b1, b2, b3, c1, c2, c3] .+ rand(Float32, length(p)) / length(p)\n",
    "end"
   ]
  },
  {
   "cell_type": "code",
   "execution_count": 6,
   "metadata": {},
   "outputs": [
    {
     "data": {
      "text/plain": [
       "9-element Vector{Float32}:\n",
       " 0.0\n",
       " 0.0\n",
       " 0.0\n",
       " 0.0\n",
       " 0.0\n",
       " 0.0\n",
       " 0.0\n",
       " 0.0\n",
       " 0.0"
      ]
     },
     "execution_count": 6,
     "metadata": {},
     "output_type": "execute_result"
    }
   ],
   "source": [
    "p = Array{Float32}(undef, 9)\n",
    "init_params(p, init)"
   ]
  },
  {
   "cell_type": "code",
   "execution_count": 7,
   "metadata": {},
   "outputs": [
    {
     "data": {
      "text/plain": [
       "loss (generic function with 1 method)"
      ]
     },
     "execution_count": 7,
     "metadata": {},
     "output_type": "execute_result"
    }
   ],
   "source": [
    "# our neural RK model\n",
    "# it's nothing but just parameter flows\n",
    "function model(p)\n",
    "    k1 = @. f(X, T)\n",
    "    k2 = @. f(X + h * p[1] * k1, T + p[8] * h)\n",
    "    k3 = @. f(X + h * (p[2] * k1 + p[3] * k2), T + p[9] * h)\n",
    "    \n",
    "    return @. X + h * (p[4] * k1 + p[5] * k2 + p[6] * k3)\n",
    "end\n",
    "\n",
    "function loss(p)\n",
    "    Y1 = model(p)\n",
    "    return sum((Y .- Y1).^2) + (sum(p[4:6]) - 1.0)^2 + (p[1] - p[8])^2 + (p[2] + p[3] - p[9])^2 # the parameters should satisfy the constraints\n",
    "end"
   ]
  },
  {
   "cell_type": "code",
   "execution_count": 8,
   "metadata": {},
   "outputs": [
    {
     "data": {
      "text/plain": [
       "#1 (generic function with 1 method)"
      ]
     },
     "execution_count": 8,
     "metadata": {},
     "output_type": "execute_result"
    }
   ],
   "source": [
    "cb = function (p, l)\n",
    "    display(l)\n",
    "    return false\n",
    "end"
   ]
  },
  {
   "cell_type": "code",
   "execution_count": 9,
   "metadata": {
    "scrolled": true
   },
   "outputs": [
    {
     "data": {
      "text/plain": [
       "1.1298588922750263"
      ]
     },
     "metadata": {},
     "output_type": "display_data"
    },
    {
     "data": {
      "text/plain": [
       "0.0008293491587262152"
      ]
     },
     "metadata": {},
     "output_type": "display_data"
    },
    {
     "data": {
      "text/plain": [
       "0.0008237965901531953"
      ]
     },
     "metadata": {},
     "output_type": "display_data"
    },
    {
     "data": {
      "text/plain": [
       "0.0006859666050293742"
      ]
     },
     "metadata": {},
     "output_type": "display_data"
    },
    {
     "data": {
      "text/plain": [
       "5.210613111405113e-6"
      ]
     },
     "metadata": {},
     "output_type": "display_data"
    },
    {
     "data": {
      "text/plain": [
       "1.9146152809691593e-8"
      ]
     },
     "metadata": {},
     "output_type": "display_data"
    },
    {
     "data": {
      "text/plain": [
       "4.102693874244457e-9"
      ]
     },
     "metadata": {},
     "output_type": "display_data"
    },
    {
     "data": {
      "text/plain": [
       "4.093563567976078e-9"
      ]
     },
     "metadata": {},
     "output_type": "display_data"
    },
    {
     "data": {
      "text/plain": [
       "4.093550281422397e-9"
      ]
     },
     "metadata": {},
     "output_type": "display_data"
    },
    {
     "data": {
      "text/plain": [
       "4.093554506002036e-9"
      ]
     },
     "metadata": {},
     "output_type": "display_data"
    },
    {
     "data": {
      "text/plain": [
       "4.093555901736566e-9"
      ]
     },
     "metadata": {},
     "output_type": "display_data"
    },
    {
     "data": {
      "text/plain": [
       "4.0935573575570704e-9"
      ]
     },
     "metadata": {},
     "output_type": "display_data"
    },
    {
     "data": {
      "text/plain": [
       "4.093555186114504e-9"
      ]
     },
     "metadata": {},
     "output_type": "display_data"
    },
    {
     "data": {
      "text/plain": [
       "4.093551735243949e-9"
      ]
     },
     "metadata": {},
     "output_type": "display_data"
    },
    {
     "data": {
      "text/plain": [
       "4.093548997800268e-9"
      ]
     },
     "metadata": {},
     "output_type": "display_data"
    },
    {
     "data": {
      "text/plain": [
       "4.093548997800268e-9"
      ]
     },
     "metadata": {},
     "output_type": "display_data"
    },
    {
     "data": {
      "text/plain": [
       "u: 9-element Vector{Float32}:\n",
       " 0.6398719\n",
       " 0.4265902\n",
       " 0.42656717\n",
       " 0.3325615\n",
       " 0.33355847\n",
       " 0.33387735\n",
       " 0.0\n",
       " 0.639872\n",
       " 0.85315746"
      ]
     },
     "execution_count": 9,
     "metadata": {},
     "output_type": "execute_result"
    }
   ],
   "source": [
    "res = sci_train(loss, p, LBFGS(), cb = cb, maxiters = 500)"
   ]
  },
  {
   "cell_type": "code",
   "execution_count": 10,
   "metadata": {},
   "outputs": [
    {
     "data": {
      "text/plain": [
       "9-element Vector{Float32}:\n",
       " 0.6398719\n",
       " 0.4265902\n",
       " 0.42656717\n",
       " 0.3325615\n",
       " 0.33355847\n",
       " 0.33387735\n",
       " 0.0\n",
       " 0.639872\n",
       " 0.85315746"
      ]
     },
     "execution_count": 10,
     "metadata": {},
     "output_type": "execute_result"
    }
   ],
   "source": [
    "res.u"
   ]
  },
  {
   "cell_type": "code",
   "execution_count": null,
   "metadata": {},
   "outputs": [],
   "source": []
  },
  {
   "cell_type": "markdown",
   "metadata": {},
   "source": [
    "## Test the trained model"
   ]
  },
  {
   "cell_type": "code",
   "execution_count": 11,
   "metadata": {},
   "outputs": [
    {
     "data": {
      "text/plain": [
       "predict (generic function with 1 method)"
      ]
     },
     "execution_count": 11,
     "metadata": {},
     "output_type": "execute_result"
    }
   ],
   "source": [
    "function predict(t, x, h, f, p)\n",
    "    k1 = f(x, t)\n",
    "    k2 = f(x + h * p[1] * k1, t + p[8] * h)\n",
    "    k3 = f(x + h * (p[2] * k1 + p[3] * k2), t + p[9] * h)\n",
    "    \n",
    "    return @. x + h * (p[4] * k1 + p[5] * k2 + p[6] * k3)\n",
    "end"
   ]
  },
  {
   "cell_type": "code",
   "execution_count": 12,
   "metadata": {},
   "outputs": [
    {
     "data": {
      "text/plain": [
       "f1 (generic function with 1 method)"
      ]
     },
     "execution_count": 12,
     "metadata": {},
     "output_type": "execute_result"
    }
   ],
   "source": [
    "f1(y, t) = -2 * exp(-2 * t)"
   ]
  },
  {
   "cell_type": "code",
   "execution_count": 13,
   "metadata": {},
   "outputs": [],
   "source": [
    "u = zeros(100); u[1] = 1.0\n",
    "t = zeros(100); t[1] = 0.0\n",
    "for i = 2:length(u)\n",
    "    t[i] = t[i-1] + h\n",
    "    u[i] = predict(t[i-1], u[i-1], h, f1, res.u)\n",
    "end"
   ]
  },
  {
   "cell_type": "code",
   "execution_count": 14,
   "metadata": {},
   "outputs": [
    {
     "data": {
      "image/png": "[encoded data removed]"
     },
     "execution_count": 14,
     "metadata": {},
     "output_type": "execute_result"
    }
   ],
   "source": [
    "plot(t, u, label=\"nn\", xlabel=\"t\")\n",
    "scatter!(t[1:4:end], exp.(-2t)[1:4:end], label=\"exact\")"
   ]
  },
  {
   "cell_type": "code",
   "execution_count": null,
   "metadata": {},
   "outputs": [],
   "source": []
  },
  {
   "cell_type": "markdown",
   "metadata": {},
   "source": [
    "## Future steps?"
   ]
  },
  {
   "cell_type": "code",
   "execution_count": null,
   "metadata": {},
   "outputs": [],
   "source": []
  }
 ],
 "metadata": {
  "kernelspec": {
   "display_name": "Julia 1.6.2",
   "language": "julia",
   "name": "julia-1.6"
  },
  "language_info": {
   "file_extension": ".jl",
   "mimetype": "application/julia",
   "name": "julia",
   "version": "1.6.2"
  }
 },
 "nbformat": 4,
 "nbformat_minor": 4
}
